{
 "cells": [
  {
   "cell_type": "code",
   "execution_count": 1,
   "id": "b67d33c1",
   "metadata": {},
   "outputs": [],
   "source": [
    "import pytesseract\n",
    "from pdf2image import convert_from_path\n",
    "from PIL import Image"
   ]
  },
  {
   "cell_type": "code",
   "execution_count": 2,
   "id": "e9b2b995",
   "metadata": {},
   "outputs": [],
   "source": [
    "from pdf2image import convert_from_path\n",
    " \n",
    "img = convert_from_path('Work1.pdf')\n",
    " \n",
    "for i in range(1):\n",
    "   \n",
    "      # Save pages as images in the pdf\n",
    "    img[i].save('page'+ str(i) +'.jpg', 'JPEG')"
   ]
  },
  {
   "cell_type": "code",
   "execution_count": 3,
   "id": "5535c8b2",
   "metadata": {},
   "outputs": [],
   "source": [
    "from PIL import Image\n",
    "from pytesseract import pytesseract\n",
    "  \n",
    "# Defining paths to tesseract.exe\n",
    "# and the image we would be using\n",
    "path_to_tesseract = r\"C:\\Program Files\\Tesseract-OCR\\tesseract.exe\"\n",
    "image_path = \"page0.jpg\""
   ]
  },
  {
   "cell_type": "code",
   "execution_count": 4,
   "id": "e8ac2208",
   "metadata": {},
   "outputs": [],
   "source": [
    "img = Image.open(image_path)\n",
    "  \n",
    "# Providing the tesseract executable\n",
    "# location to pytesseract library\n",
    "pytesseract.tesseract_cmd = path_to_tesseract\n",
    "  \n"
   ]
  },
  {
   "cell_type": "code",
   "execution_count": 5,
   "id": "27e8311e",
   "metadata": {},
   "outputs": [],
   "source": [
    "# Passing the image object to image_to_string() function\n",
    "# This function will extract the text from the image\n",
    "text = pytesseract.image_to_string(img)\n",
    "  \n"
   ]
  },
  {
   "cell_type": "code",
   "execution_count": 6,
   "id": "64e39cf5",
   "metadata": {},
   "outputs": [
    {
     "name": "stdout",
     "output_type": "stream",
     "text": [
      "43115001\n",
      "Hiram K Carolann\n",
      "63363\n",
      "8241 Placerat, Rd., Hillsboro, Oregon, 78552\n",
      "Dentist\n",
      "EJ680168\n",
      "Janssen\n",
      "ccosas\n",
      "1125 TrentonHarbourton Rd., Titusville, NJ, 8560\n",
      "In Control Nicotine Lozenge, nicotine polacrilex (lozenge) - Multum\n",
      "Betamethasone Gel, betamethasone dipropionate (gel) - FDA\n",
      "PNV Prenatal Vitamins plus Vitamin A, alpha-tocopherol acetate (tablet) - FDA\n",
      "Phenergan, promethazine hydrochloride (Tablets and Suppositories) - FDA\n",
      "Pronestyl, procainamide hydrochloride (Tablets USP and Capsules USP) - FDA\n",
      "719.00\n",
      "43115003\n",
      "Stuart U Avila\n",
      "ece06\n",
      "2248 Non, Road, Minneapolis, Minnesota, 99730\n",
      "Physician\n",
      "gp728080\n",
      "Angen Inc.\n",
      "cco36é7\n",
      "1 Amgen CenterDrive, Newbury Park, CA, 91320\n",
      "Allergy Relief D, cetirizine hydrochloride and pseudoephedrine hydrochloride (tablet) - Multum\n",
      "Good Neighbor Anti-Diarrheal, loperamide hydrochloride (oral solution) - Multum\n",
      "Vyleesi Injection, bremelanotide (subcutaneous injection) - Multum\n",
      "Darzalex, daratumumab (injection) - FDA\n",
      "Sheerdesenz Desensitizing Treatment, potassium nitrate (dental film) - FDA\n",
      "\n",
      "2,318.00\n",
      "\n",
      "43115002\n",
      "Bishop C Adm\n",
      "\n",
      "16510\n",
      "\n",
      "Ap #645-1929 Ridiculus Rd., Kenosha, Kenosha, WI, 26784\n",
      "Dentist\n",
      "\n",
      "OR386371\n",
      "\n",
      "Orthof ix Holdings,\n",
      "\n",
      "ccozs3\n",
      "\n",
      "3451 Plano Parkway, The Colony, TX, 75056\n",
      "Penicillin G Injection, penicillin G potassium (injection) - FDA\n",
      "Econochlor, chloramphenicol (ophthalmic solution and ointment) - FDA\n",
      "Yupelri, revefenacin (inhalation solution) - Multum\n",
      "\n",
      "Pliaglis, idocaine and tetracaine (cream) - FDA\n",
      "\n",
      "Janumet, sitagliptin and metformin hydrochloride (tablet) - Multum\n",
      "43115004\n",
      "\n",
      "Quintin ¢ David\n",
      "\n",
      "40399\n",
      "\n",
      "Ap #773-5040 Dolor Road, Tacoma, Tacoma, Washington, 68556\n",
      "Pharmacist\n",
      "\n",
      "BS237916\n",
      "\n",
      "Ethicon Inc\n",
      "ccolse\n",
      "Box 151 Route 2iWest, Somerville, NJ, 8876\n",
      "\n",
      "Diclofenac and Misoprostol Delayed Release, diclofenac sodium and misoprostol (tablet)\n",
      "\n",
      "NeoProfen, ibuprofen lysine (injection) - FDA\n",
      "Advate, antihemophilic factor (injection) - FDA\n",
      "Lexiva, fosamprenavir calcium (tablet) - FDA\n",
      "\n",
      "Choice OB + DHA, prenatal multivitamin (tablet) - FDA\n",
      "\n",
      "264.00\n",
      "\n",
      "- FDA\n",
      "\n",
      "$99.00\n"
     ]
    }
   ],
   "source": [
    "print(text[:-1])"
   ]
  },
  {
   "cell_type": "code",
   "execution_count": 6,
   "id": "88700008",
   "metadata": {},
   "outputs": [],
   "source": [
    "with open('test_text.txt', 'w') as f:\n",
    "    text = text.replace(\"-\\n\", \"\")\n",
    "    f.write(text)"
   ]
  },
  {
   "cell_type": "code",
   "execution_count": 16,
   "id": "b67c35d7",
   "metadata": {},
   "outputs": [
    {
     "data": {
      "text/plain": [
       "str"
      ]
     },
     "execution_count": 16,
     "metadata": {},
     "output_type": "execute_result"
    }
   ],
   "source": [
    "type(text)"
   ]
  },
  {
   "cell_type": "code",
   "execution_count": null,
   "id": "1fd45574",
   "metadata": {},
   "outputs": [],
   "source": []
  }
 ],
 "metadata": {
  "kernelspec": {
   "display_name": "Python 3 (ipykernel)",
   "language": "python",
   "name": "python3"
  },
  "language_info": {
   "codemirror_mode": {
    "name": "ipython",
    "version": 3
   },
   "file_extension": ".py",
   "mimetype": "text/x-python",
   "name": "python",
   "nbconvert_exporter": "python",
   "pygments_lexer": "ipython3",
   "version": "3.8.8"
  }
 },
 "nbformat": 4,
 "nbformat_minor": 5
}
